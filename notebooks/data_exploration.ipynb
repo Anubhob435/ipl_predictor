{
 "cells": [
  {
   "cell_type": "markdown",
   "id": "cf413357",
   "metadata": {},
   "source": [
    "# IPL Data Exploration\n",
    "\n",
    "This notebook explores the processed IPL match data to understand feature distributions and relationships with the target variable (`team1_won`)."
   ]
  },
  {
   "cell_type": "code",
   "execution_count": null,
   "id": "5522058c",
   "metadata": {},
   "outputs": [],
   "source": [
    "import pandas as pd\n",
    "import numpy as np\n",
    "import matplotlib.pyplot as plt\n",
    "import seaborn as sns\n",
    "import os\n",
    "\n",
    "# Define paths\n",
    "# Adjust the path if your notebook is in a different location relative to the root\n",
    "try:\n",
    "    ROOT_DIR = os.path.abspath(os.path.join(os.path.dirname(__file__), '..')) \n",
    "except NameError: # Handle case where __file__ is not defined (e.g., interactive environment)\n",
    "    ROOT_DIR = os.path.abspath(os.path.join(os.getcwd(), '..'))\n",
    "\n",
    "PROCESSED_DATA_DIR = os.path.join(ROOT_DIR, 'data', 'processed')\n",
    "\n",
    "# Load the processed data (non-encoded version for easier interpretation)\n",
    "features_path = os.path.join(PROCESSED_DATA_DIR, 'matches_features.csv')\n",
    "df_features = pd.read_csv(features_path)\n",
    "\n",
    "# Load the encoded data for potential correlation analysis\n",
    "encoded_features_path = os.path.join(PROCESSED_DATA_DIR, 'matches_features_encoded.csv')\n",
    "df_encoded = pd.read_csv(encoded_features_path)\n",
    "\n",
    "print(f\"Processed Features Data Shape: {df_features.shape}\")\n",
    "print(f\"Encoded Features Data Shape: {df_encoded.shape}\")\n",
    "\n",
    "# Display first few rows of non-encoded data\n",
    "display(df_features.head())"
   ]
  },
  {
   "cell_type": "markdown",
   "id": "e70b9c00",
   "metadata": {},
   "source": [
    "## Target Variable Distribution\n",
    "\n",
    "Check the balance of the target variable `team1_won`."
   ]
  },
  {
   "cell_type": "code",
   "execution_count": null,
   "id": "954ce20e",
   "metadata": {},
   "outputs": [],
   "source": [
    "plt.figure(figsize=(6, 4))\n",
    "sns.countplot(x='team1_won', data=df_features)\n",
    "plt.title('Distribution of Match Outcome (1 = Team 1 Won)')\n",
    "plt.xlabel('Team 1 Won')\n",
    "plt.ylabel('Count')\n",
    "plt.xticks([0, 1], ['No (Team 2 Won)', 'Yes (Team 1 Won)'])\n",
    "plt.show()\n",
    "\n",
    "print(\"Target Variable Distribution:\")\n",
    "print(df_features['team1_won'].value_counts(normalize=True))"
   ]
  },
  {
   "cell_type": "markdown",
   "id": "3997614c",
   "metadata": {},
   "source": [
    "## Feature Correlation with Target\n",
    "\n",
    "Let's look at the correlation of numerical features with the target variable in the encoded dataset. This helps identify potentially predictive features."
   ]
  },
  {
   "cell_type": "code",
   "execution_count": null,
   "id": "d80ef6f5",
   "metadata": {},
   "outputs": [],
   "source": [
    "# Calculate correlation matrix for the encoded data\n",
    "correlation_matrix = df_encoded.corr()\n",
    "\n",
    "# Get correlation with the target variable 'team1_won'\n",
    "target_correlation = correlation_matrix['team1_won'].drop('team1_won') # Drop self-correlation\n",
    "target_correlation_sorted = target_correlation.sort_values(ascending=False)\n",
    "\n",
    "plt.figure(figsize=(10, 10))\n",
    "sns.barplot(x=target_correlation_sorted.values, y=target_correlation_sorted.index, palette='vlag')\n",
    "plt.title('Feature Correlation with team1_won')\n",
    "plt.xlabel('Correlation Coefficient')\n",
    "plt.ylabel('Features')\n",
    "plt.tight_layout()\n",
    "plt.show()\n",
    "\n",
    "print(\"\n",
    "Top 10 Correlated Features with team1_won:\")\n",
    "print(target_correlation_sorted.head(10))\n",
    "print(\"\n",
    "Bottom 10 Correlated Features with team1_won:\")\n",
    "print(target_correlation_sorted.tail(10))"
   ]
  },
  {
   "cell_type": "markdown",
   "id": "9b106b51",
   "metadata": {},
   "source": [
    "## Explore Specific Feature Relationships\n",
    "\n",
    "Visualize the relationship between specific features and the outcome using the non-encoded data for better interpretability."
   ]
  },
  {
   "cell_type": "code",
   "execution_count": null,
   "id": "421c5767",
   "metadata": {},
   "outputs": [],
   "source": [
    "def plot_feature_vs_target(feature_name, df, target='team1_won'):\n",
    "    \"\"Helper function to plot feature distribution against the target.\"\"\n",
    "    plt.figure(figsize=(12, 5))\n",
    "    \n",
    "    # Boxplot for numerical features\n",
    "    if pd.api.types.is_numeric_dtype(df[feature_name]):\n",
    "        sns.boxplot(x=target, y=feature_name, data=df)\n",
    "        plt.title(f'{feature_name} vs. Match Outcome')\n",
    "    # Countplot for categorical or discrete features (like toss decision)\n",
    "    else:\n",
    "        sns.countplot(x=feature_name, hue=target, data=df, palette='viridis')\n",
    "        plt.title(f'{feature_name} Distribution by Match Outcome')\n",
    "        plt.xticks(rotation=45, ha='right')\n",
    "        \n",
    "    plt.xlabel('Team 1 Won (0=No, 1=Yes)' if pd.api.types.is_numeric_dtype(df[feature_name]) else feature_name)\n",
    "    plt.ylabel(feature_name if pd.api.types.is_numeric_dtype(df[feature_name]) else 'Count')\n",
    "    plt.tight_layout()\n",
    "    plt.show()\n",
    "\n",
    "# --- Plotting Examples --- \n",
    "\n",
    "# Example 1: Head-to-Head Win Rate\n",
    "plot_feature_vs_target('team1_h2h_winrate', df_features)\n",
    "\n",
    "# Example 2: Team Form (Recent Performance)\n",
    "plot_feature_vs_target('team1_form', df_features)\n",
    "\n",
    "# Example 3: Venue Specific Win Rate\n",
    "plot_feature_vs_target('team1_venue_win_rate', df_features)\n",
    "\n",
    "# Example 4: Toss Decision \n",
    "# Need to use the non-encoded features dataframe for interpretable labels\n",
    "plot_feature_vs_target('toss_decision', df_features)\n",
    "\n",
    "# Example 5: Did Team 1 Win Toss?\n",
    "plot_feature_vs_target('team1_won_toss', df_features)\n",
    "\n",
    "# Add more plots for other features as needed:\n",
    "# plot_feature_vs_target('team1_streak', df_features)\n",
    "# plot_feature_vs_target('chose_to_bat', df_features)"
   ]
  }
 ],
 "metadata": {
  "language_info": {
   "name": "python"
  }
 },
 "nbformat": 4,
 "nbformat_minor": 5
}
